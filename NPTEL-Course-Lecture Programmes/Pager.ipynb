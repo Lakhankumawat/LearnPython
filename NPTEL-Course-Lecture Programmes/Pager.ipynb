{
  "nbformat": 4,
  "nbformat_minor": 0,
  "metadata": {
    "colab": {
      "name": "Pager.ipynb",
      "provenance": [],
      "collapsed_sections": [],
      "authorship_tag": "ABX9TyMKeUnIj8EcnzZFX0G8CBVN",
      "include_colab_link": true
    },
    "kernelspec": {
      "name": "python3",
      "display_name": "Python 3"
    }
  },
  "cells": [
    {
      "cell_type": "markdown",
      "metadata": {
        "id": "view-in-github",
        "colab_type": "text"
      },
      "source": [
        "<a href=\"https://colab.research.google.com/github/Lakhankumawat/LearnPython/blob/main/NPTEL-Course-Lecture%20Programmes/Pager.ipynb\" target=\"_parent\"><img src=\"https://colab.research.google.com/assets/colab-badge.svg\" alt=\"Open In Colab\"/></a>"
      ]
    },
    {
      "cell_type": "markdown",
      "metadata": {
        "id": "XezmL5su723M"
      },
      "source": [
        "## 🙂 Welcome \r\n",
        "<br><hr><br>\r\n",
        "###  👇 Here we are reading nodes/edges from text file named page_rank.txt and are able to plot a graph , by making use of values present in files .\r\n",
        "\r\n",
        " [page_rank.txt](https://github.com/Lakhankumawat/LearnPython/blob/main/NPTEL-Course-Lecture%20Programmes/page_rank.txt)\r\n",
        "\r\n",
        " Program Code :\r\n",
        "\r\n"
      ]
    },
    {
      "cell_type": "code",
      "metadata": {
        "id": "_fwu9g2tFsMt"
      },
      "source": [
        "import networkx as nx\r\n",
        "import matplotlib.pyplot as plt\r\n",
        "\r\n",
        "G=nx.read_edgelist(r\"page_rank.txt\",create_using=nx.DiGraph,nodetype=str)\r\n",
        "\r\n",
        "nx.draw(G,with_labels=True)\r\n",
        "\r\n",
        "plt.show()"
      ],
      "execution_count": null,
      "outputs": []
    },
    {
      "cell_type": "markdown",
      "metadata": {
        "id": "ohESCkvRFvY7"
      },
      "source": [
        "**Output Plot :**<br>\r\n",
        "\r\n",
        "[plot](https://github.com/Lakhankumawat/LearnPython/blob/main/NPTEL-Course-Lecture%20Programmes/Plot-img.png)\r\n"
      ]
    }
  ]
}
