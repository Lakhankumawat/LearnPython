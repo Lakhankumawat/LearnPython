{
  "nbformat": 4,
  "nbformat_minor": 0,
  "metadata": {
    "colab": {
      "name": "gmplot.ipynb",
      "provenance": [],
      "collapsed_sections": [],
      "authorship_tag": "ABX9TyME/56NEbEwj2ru8abXGNOM",
      "include_colab_link": true
    },
    "kernelspec": {
      "name": "python3",
      "display_name": "Python 3"
    }
  },
  "cells": [
    {
      "cell_type": "markdown",
      "metadata": {
        "id": "view-in-github",
        "colab_type": "text"
      },
      "source": [
        "<a href=\"https://colab.research.google.com/github/Lakhankumawat/LearnPython/blob/main/gmplot.ipynb\" target=\"_parent\"><img src=\"https://colab.research.google.com/assets/colab-badge.svg\" alt=\"Open In Colab\"/></a>"
      ]
    },
    {
      "cell_type": "markdown",
      "metadata": {
        "id": "M3csUP0K4p65"
      },
      "source": [
        "[gmplot](https://github.com/gmplot/gmplot)\r\n",
        "==================== \r\n",
        "PyVersions: [gmplot](https://www.python.org/gmplot) \r\n",
        "\r\n",
        "A matplotlib-like interface to render all the data you'd like on top of Google Maps.\r\n",
        "\r\n",
        "Several plotting methods make creating exploratory map views effortless.\r\n",
        "\r\n",
        "To install: ``pip install gmplot``\r\n",
        "\r\n",
        "Documentation (with examples):  [API Reference](https://github.com/gmplot/gmplot/wiki) \r\n",
        "\r\n",
        "\r\n",
        "\r\n",
        "---\r\n",
        "![](https://raw.githubusercontent.com/gmplot/gmplot/master/docs/images/README_Example.png)\r\n",
        "\r\n",
        "\r\n",
        "---\r\n",
        "\r\n",
        "### 👇Program Code : Python\r\n",
        "\r\n"
      ]
    },
    {
      "cell_type": "code",
      "metadata": {
        "id": "jN4IuLO262tJ"
      },
      "source": [
        "# -*- coding: utf-8 -*-\r\n",
        "\r\n",
        "#20.6134567,72.9431185,87\r\n",
        "import csv\r\n",
        "from gmplot import gmplot\r\n",
        "\r\n",
        "\r\n",
        "gmap = gmplot.GoogleMapPlotter(20.613456, 72.9431185,17)\r\n",
        "#gmap.coloricon=\"https://developers.google.com/maps/documentation/javascript/examples/full/images/beachflag.png\"\r\n",
        "\r\n",
        "with open('LatLong.csv','r') as f:\r\n",
        "    reader=csv.reader(f)\r\n",
        "    k=0\r\n",
        "    for row in reader:\r\n",
        "        lat=float(row[0])\r\n",
        "        long=float(row[1])\r\n",
        "        \r\n",
        "        if k==0:\r\n",
        "            gmap.marker(lat, long, 'green')\r\n",
        "            k=1\r\n",
        "        else:\r\n",
        "            gmap.marker(lat,long,'blue')\r\n",
        "        \r\n",
        "gmap.marker(lat,long,'red')\r\n",
        "gmap.draw(\"Myhouse.html\")"
      ],
      "execution_count": null,
      "outputs": []
    }
  ]
}