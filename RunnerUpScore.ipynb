{
  "nbformat": 4,
  "nbformat_minor": 0,
  "metadata": {
    "colab": {
      "name": "RunnerUpScore.ipynb",
      "provenance": [],
      "collapsed_sections": [],
      "authorship_tag": "ABX9TyNXS4ie6oLXfDepRmpy2ars",
      "include_colab_link": true
    },
    "kernelspec": {
      "name": "python3",
      "display_name": "Python 3"
    }
  },
  "cells": [
    {
      "cell_type": "markdown",
      "metadata": {
        "id": "view-in-github",
        "colab_type": "text"
      },
      "source": [
        "<a href=\"https://colab.research.google.com/github/Lakhankumawat/LearnPython/blob/main/RunnerUpScore.ipynb\" target=\"_parent\"><img src=\"https://colab.research.google.com/assets/colab-badge.svg\" alt=\"Open In Colab\"/></a>"
      ]
    },
    {
      "cell_type": "markdown",
      "metadata": {
        "id": "zkROECHPEiUS"
      },
      "source": [
        "**Find the Runner-Up Score!**\r\n",
        "\r\n",
        "Given the participants' score sheet for your University Sports Day, you are required to find the runner-up score. You are given  scores. Store them in a list and find the score of the runner-up.\r\n",
        "\r\n",
        "**Input Format**\r\n",
        "\r\n",
        "The first line contains . The second line contains an array   of  integers each separated by a space.\r\n",
        "\r\n",
        "**Constraints**\r\n",
        "\r\n",
        "Output Format\r\n",
        "\r\n",
        "Print the runner-up score.\r\n",
        "\r\n",
        "**Sample Input 0**\r\n",
        "<br>\r\n",
        "5<br>\r\n",
        "2 3 6 6 5<br><hr>\r\n",
        "**Sample Output 0**\r\n",
        "\r\n",
        "5<br>\r\n",
        "\r\n",
        "**Explanation 0**\r\n",
        "<br> Maximum element in [2,3,6,6,5] is 6 and hence runner-up(second place ) is 5."
      ]
    },
    {
      "cell_type": "code",
      "metadata": {
        "id": "eRAOgmjsdDs8"
      },
      "source": [
        "#**program code for above solution**\r\n",
        "\r\n",
        "if __name__ == '__main__':\r\n",
        "  i = int(input())\r\n",
        "lis = list(map(int,input().strip().split()))[:i]\r\n",
        "z = max(lis)\r\n",
        "while max(lis) == z:\r\n",
        "    lis.remove(max(lis))\r\n",
        "\r\n",
        "print(max(lis))\r\n"
      ],
      "execution_count": null,
      "outputs": []
    },
    {
      "cell_type": "markdown",
      "metadata": {
        "id": "mJvFegpjdWYG"
      },
      "source": [
        "\r\n",
        "# Explanation\r\n",
        "\r\n",
        "### What does the following line mean in Python: list (map (int, input().strip().split())) [:I]?\r\n",
        "\r\n",
        "Yeah, I love Python one liners.\r\n",
        "\r\n",
        "Let us break it down.\r\n",
        "\r\n",
        "**input()** <hr>\r\n",
        "This is used to fetch input from the user. In this case. We are expecting the user to provide a list of integers. How do I know? Look next.<hr>\r\n",
        "\r\n",
        "**input().strip()** <hr>\r\n",
        "This will eliminate trailing spaces from the user input, if they are there. Why is it required? Because some users will do that and that might break your program.\r\n",
        "\r\n",
        "Remember that input() will cast the input as string. So, now we have a string of integers like so: “1 2 4 42”<hr>\r\n",
        "\r\n",
        "**input.strip().split()** <hr>\r\n",
        "split() is used to create a Python list out of a string. If no delimiter is given, this breaks the string by spaces. So, now we have: [“1”, “2”, “4”, “42”]\r\n",
        "<hr>\r\n",
        "\r\n",
        "**map(int, input().strip().split())** <hr> \r\n",
        "map() takes two arguments. The first one is the method to apply, the second one is the data to apply it to. By this understanding, we can see this is doing nothing but typecasting every element of the list to an integer value. Since map returns the data type it was applied to, the list() method applied over map() is redundant. So now we have covered the following:<hr>\r\n",
        "\r\n",
        "**list(map(int, input().strip().split()))**<br> \r\n",
        "And we have: [1, 2, 4, 42]\r\n",
        "\r\n",
        "Note the missing quotes. This means the elements are now all int.\r\n",
        "\r\n",
        "Now, the last bit.\r\n",
        "\r\n",
        "**list(map(int, input().strip().split()))[:I]**<br>\r\n",
        "<hr>\r\n",
        "takes the list we have obtained and returns only the first I elements.\r\n",
        "\r\n",
        "Neat. Right?"
      ]
    }
  ]
}