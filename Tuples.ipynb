{
  "nbformat": 4,
  "nbformat_minor": 0,
  "metadata": {
    "colab": {
      "name": "Tuple.ipynb",
      "provenance": [],
      "authorship_tag": "ABX9TyMU0pZk59xkrJmU60zGLJ1U",
      "include_colab_link": true
    },
    "kernelspec": {
      "name": "python3",
      "display_name": "Python 3"
    }
  },
  "cells": [
    {
      "cell_type": "markdown",
      "metadata": {
        "id": "view-in-github",
        "colab_type": "text"
      },
      "source": [
        "<a href=\"https://colab.research.google.com/github/Lakhankumawat/LearnPython/blob/main/Tuples.ipynb\" target=\"_parent\"><img src=\"https://colab.research.google.com/assets/colab-badge.svg\" alt=\"Open In Colab\"/></a>"
      ]
    },
    {
      "cell_type": "markdown",
      "metadata": {
        "id": "fYuiJGvvphLn"
      },
      "source": [
        "## [Tuple](https://www.geeksforgeeks.org/tuples-in-python/)<hr>\r\n",
        " \r\n",
        "\r\n",
        " A Tuple is a collection of Python objects separated by commas. \r\n",
        "In someways a tuple is similar to a list in terms of indexing,\r\n",
        " nested objects and repetition but a tuple is immutable unlike lists which are mutable.\r\n",
        " \r\n",
        " Tuples are faster to access than lists since they are immutable\r\n",
        "\r\n",
        "just like in list we have [ ]\r\n",
        "and in dictionary { }\r\n",
        "in tuple we have ( ) <br><br>\r\n",
        "**Sample Input**\r\n",
        "\r\n"
      ]
    },
    {
      "cell_type": "code",
      "metadata": {
        "id": "1n8bUI5rJVc1"
      },
      "source": [
        "# Code for converting a list and a string into a tuple \r\n",
        "  \r\n",
        "list1 = [0, 1, 2] \r\n",
        "print(tuple(list1)) \r\n",
        "print(tuple('python')) # string 'python' "
      ],
      "execution_count": null,
      "outputs": []
    },
    {
      "cell_type": "markdown",
      "metadata": {
        "id": "mslfTBrAJh66"
      },
      "source": [
        "**Sample Output**\r\n",
        "\r\n",
        "\r\n",
        "\r\n",
        "```\r\n",
        "(0, 1, 2)\r\n",
        "('p', 'y', 't', 'h', 'o', 'n')\r\n",
        "```\r\n",
        "\r\n",
        "<hr>\r\n",
        "\r\n",
        "\r\n",
        " ### 👇Program Code : Python"
      ]
    },
    {
      "cell_type": "code",
      "metadata": {
        "id": "F7m7l3oFqR5h"
      },
      "source": [
        "tuple1 = (0, 1, 2, 3) \r\n",
        "\r\n",
        "  \r\n",
        "tuple2=(\"Buggati\",\"RolceRoyce\",\"Strawberry\",\"Buggati\")\r\n",
        "print(tuple2)\r\n",
        "\r\n",
        "\r\n",
        "# Concatenating above two \r\n",
        "print(tuple1 + tuple2) \r\n",
        "\r\n",
        "#print length\r\n",
        "print(len(tuple2)) \r\n",
        "\r\n",
        "#prints the no. of times buggati arrived in tuple :D\r\n",
        "print(tuple2.count(\"Buggati\"))\r\n",
        "\r\n",
        "#prints the index of the no or word (considers first occurence)\r\n",
        "print(\"Index of strawberry tuple data is : \",tuple2.index(\"Strawberry\"))\r\n",
        "\r\n",
        "#tuple repetition\r\n",
        "tuple3 = ('python',)*3\r\n",
        "print(tuple3) "
      ],
      "execution_count": null,
      "outputs": []
    }
  ]
}