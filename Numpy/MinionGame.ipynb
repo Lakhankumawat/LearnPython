{
  "nbformat": 4,
  "nbformat_minor": 0,
  "metadata": {
    "colab": {
      "name": "MinionGame.ipynb",
      "provenance": [],
      "collapsed_sections": [],
      "authorship_tag": "ABX9TyP95RYTGmro6cr4rn47FOtL",
      "include_colab_link": true
    },
    "kernelspec": {
      "name": "python3",
      "display_name": "Python 3"
    }
  },
  "cells": [
    {
      "cell_type": "markdown",
      "metadata": {
        "id": "view-in-github",
        "colab_type": "text"
      },
      "source": [
        "<a href=\"https://colab.research.google.com/github/Lakhankumawat/LearnPython/blob/main/Numpy/MinionGame.ipynb\" target=\"_parent\"><img src=\"https://colab.research.google.com/assets/colab-badge.svg\" alt=\"Open In Colab\"/></a>"
      ]
    },
    {
      "cell_type": "markdown",
      "metadata": {
        "id": "Jbzz3LKR8Rkp"
      },
      "source": [
        "Kevin and Stuart want to play the 'The Minion Game'.\r\n",
        "\r\n",
        "Game Rules\r\n",
        "\r\n",
        "Both players are given the same string,<br>\r\n",
        "Both players have to make substrings using the letters of the string .<br>\r\n",
        "Stuart has to make words starting with consonants.<br>\r\n",
        "Kevin has to make words starting with vowels.<br>\r\n",
        "The game ends when both players have made all possible substrings.<br><hr>\r\n",
        "<br>\r\n",
        "**Scoring**<br>\r\n",
        "A player gets +1 point for each occurrence of the substring in the string .\r\n",
        "\r\n",
        "For Example:<br>\r\n",
        "String  = BANANA<br>\r\n",
        "Kevin's vowel beginning word = ANA<br>\r\n",
        "Here, ANA occurs twice in BANANA. <br>Hence, Kevin will get 2 Points.\r\n",
        "\r\n",
        "For better understanding, see the image below:<br><br>\r\n",
        "![Image](https://s3.amazonaws.com/hr-challenge-images/9693/1450330231-04db904008-banana.png)\r\n",
        "<br>\r\n",
        "<hr>\r\n",
        "<br>\r\n",
        "\r\n",
        "## Sample Input\r\n",
        "\r\n",
        "> BANANA\r\n",
        "##Sample Output\r\n",
        "\r\n",
        " > Stuart 12\r\n",
        "\r\n",
        "<br>\r\n",
        "\r\n",
        "### Program Code : Python"
      ]
    },
    {
      "cell_type": "code",
      "metadata": {
        "id": "lIiLr7uH9bMH"
      },
      "source": [
        "\r\n",
        "\r\n",
        "def minion_game(string):\r\n",
        "    vowel =['A','E','I','O','U']\r\n",
        "    S=0\r\n",
        "    K=0\r\n",
        "    for i in range(len(string)):\r\n",
        "        if string[i] in vowel:\r\n",
        "            K+= len(string)-i\r\n",
        "        else:\r\n",
        "            S+=len(string)-i\r\n",
        "    if S>K:\r\n",
        "        print(\"Stuart\"+\" \"+ \"%d\" % S)\r\n",
        "    elif K>S:\r\n",
        "        print(\"Kevin\"+\" \"+'%d' % K)\r\n",
        "    else:\r\n",
        "        print(\"Draw\")\r\n",
        "        \r\n",
        "if __name__ == '__main__':\r\n",
        "    s = input()\r\n",
        "    minion_game(s)"
      ],
      "execution_count": null,
      "outputs": []
    }
  ]
}