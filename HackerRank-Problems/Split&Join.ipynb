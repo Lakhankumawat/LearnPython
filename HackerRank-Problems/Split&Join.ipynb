{
  "nbformat": 4,
  "nbformat_minor": 0,
  "metadata": {
    "colab": {
      "name": "Split&Join.ipynb",
      "provenance": [],
      "authorship_tag": "ABX9TyOHTQHHNcKk0WDgqltnh78Y",
      "include_colab_link": true
    },
    "kernelspec": {
      "name": "python3",
      "display_name": "Python 3"
    }
  },
  "cells": [
    {
      "cell_type": "markdown",
      "metadata": {
        "id": "view-in-github",
        "colab_type": "text"
      },
      "source": [
        "<a href=\"https://colab.research.google.com/github/Lakhankumawat/LearnPython/blob/main/HackerRank-Problems/Split%26Join.ipynb\" target=\"_parent\"><img src=\"https://colab.research.google.com/assets/colab-badge.svg\" alt=\"Open In Colab\"/></a>"
      ]
    },
    {
      "cell_type": "code",
      "metadata": {
        "id": "g7jc8vydNnNM"
      },
      "source": [
        "https://www.hackerrank.com/challenges/python-string-split-and-join/problem"
      ],
      "execution_count": null,
      "outputs": []
    },
    {
      "cell_type": "markdown",
      "metadata": {
        "id": "fYuiJGvvphLn"
      },
      "source": [
        "### **Task** \r\n",
        "You are given a string. Split the string on a \" \" (space) delimiter and join using a - hyphen.\r\n",
        "\r\n",
        "### **Input Format**\r\n",
        "The first line contains a string consisting of space separated words.\r\n",
        "\r\n",
        "### **Output Format**\r\n",
        "Print the formatted string as explained above.<hr>\r\n",
        " \r\n",
        "**Sample Input**\r\n",
        "\r\n",
        "this is a string<hr>\r\n",
        "**Sample Output**\r\n",
        "\r\n",
        "this-is-a-string<hr>\r\n",
        "\r\n",
        "\r\n",
        " ### 👇Program Code : Python"
      ]
    },
    {
      "cell_type": "code",
      "metadata": {
        "id": "F7m7l3oFqR5h"
      },
      "source": [
        "def split_and_join(line):\r\n",
        "    # write your code here\r\n",
        "    myline=line.split()\r\n",
        "    myline=\"-\".join(myline)\r\n",
        "    return myline\r\n",
        "\r\n",
        "if __name__ == '__main__':\r\n",
        "    line = input()\r\n",
        "    result = split_and_join(line)\r\n",
        "    print(result)"
      ],
      "execution_count": null,
      "outputs": []
    }
  ]
}