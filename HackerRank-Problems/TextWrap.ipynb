{
  "nbformat": 4,
  "nbformat_minor": 0,
  "metadata": {
    "colab": {
      "name": "TextWrap.ipynb",
      "provenance": [],
      "collapsed_sections": [],
      "authorship_tag": "ABX9TyMOCfL2uRR4GDiQ8dtBdDbz",
      "include_colab_link": true
    },
    "kernelspec": {
      "name": "python3",
      "display_name": "Python 3"
    }
  },
  "cells": [
    {
      "cell_type": "markdown",
      "metadata": {
        "id": "view-in-github",
        "colab_type": "text"
      },
      "source": [
        "<a href=\"https://colab.research.google.com/github/Lakhankumawat/LearnPython/blob/main/HackerRank-Problems/TextWrap.ipynb\" target=\"_parent\"><img src=\"https://colab.research.google.com/assets/colab-badge.svg\" alt=\"Open In Colab\"/></a>"
      ]
    },
    {
      "cell_type": "markdown",
      "metadata": {
        "id": "9XA6lCWTcxZZ"
      },
      "source": [
        "**Sample Input 0**<br>\r\n",
        "\r\n",
        "`ABCDEFGHIJKLIMNOQRSTUVWXYZ  `<br>\r\n",
        " 4<br><hr><br>\r\n",
        "**Sample Output 0**<br>\r\n",
        "\r\n",
        "\r\n",
        "```\r\n",
        "ABCD<br>\r\n",
        "EFGH<br>\r\n",
        "IJKL<br>\r\n",
        "IMNO<br>\r\n",
        "QRST<br>\r\n",
        "UVWX<br>\r\n",
        "YZ<br>\r\n",
        "\r\n",
        "```\r\n",
        "\r\n",
        "## Program Code : Python "
      ]
    },
    {
      "cell_type": "code",
      "metadata": {
        "colab": {
          "base_uri": "https://localhost:8080/"
        },
        "id": "tfTMI7AedeTe",
        "outputId": "bfd32d6e-82e5-49c6-f9c8-3e420f816d83"
      },
      "source": [
        "import textwrap\r\n",
        "\r\n",
        "def wrap(string, max_width):\r\n",
        "    s=textwrap.fill(string,max_width)\r\n",
        "    return s\r\n",
        "\r\n",
        "if __name__ == '__main__':\r\n",
        "    string, max_width = input(), int(input())\r\n",
        "    result = wrap(string, max_width)\r\n",
        "    print(result)"
      ],
      "execution_count": 1,
      "outputs": [
        {
          "output_type": "stream",
          "text": [
            "GOODBOYS\n",
            "4\n",
            "GOOD\n",
            "BOYS\n"
          ],
          "name": "stdout"
        }
      ]
    }
  ]
}